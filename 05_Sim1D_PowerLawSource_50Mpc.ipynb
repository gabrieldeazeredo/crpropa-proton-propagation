{
 "cells": [
  {
   "cell_type": "markdown",
   "id": "32280d84-6ea5-4311-a415-a773697813ef",
   "metadata": {},
   "source": [
    "# Proton propagation using CRPropa3\n",
    "\n",
    "Gabriel de Azeredo, April 2024\n",
    "\n",
    "Proton propagation through an expanding Universe, filled by CMB. Source at 50 Mpc.\n",
    "\n",
    "Electron pair production and pion production is take into account as interaction with photon background.\n",
    "\n",
    "This script generate earth's measured spectrum of a source emitting 10000 protons in a power law. "
   ]
  },
  {
   "cell_type": "code",
   "execution_count": 2,
   "id": "183438c8-a2e4-4c43-b7ac-10bf484c3085",
   "metadata": {},
   "outputs": [],
   "source": [
    "#    Module import\n",
    "\n",
    "from crpropa import *"
   ]
  },
  {
   "cell_type": "code",
   "execution_count": 17,
   "id": "78bbfc87-8c4e-42d9-b826-4643ec6da073",
   "metadata": {},
   "outputs": [],
   "source": [
    "#    Simulation general setup\n",
    "\n",
    "events = 10000\n",
    "source_distance = 50 * Mpc\n",
    "\n",
    "output_name = 'sim/05_sim1D_PowerLawSource_50Mpc.txt'\n",
    "\n",
    "#    Photon field setup\n",
    "\n",
    "cmb = CMB()"
   ]
  },
  {
   "cell_type": "code",
   "execution_count": 27,
   "id": "b43c7b27-3343-4b6a-a672-da4f928213fc",
   "metadata": {},
   "outputs": [
    {
     "ename": "TypeError",
     "evalue": "in method 'Source_add', argument 2 of type 'crpropa::SourceFeature *'",
     "output_type": "error",
     "traceback": [
      "\u001b[0;31m---------------------------------------------------------------------------\u001b[0m",
      "\u001b[0;31mTypeError\u001b[0m                                 Traceback (most recent call last)",
      "Cell \u001b[0;32mIn[27], line 11\u001b[0m\n\u001b[1;32m      8\u001b[0m source \u001b[38;5;241m=\u001b[39m Source()\n\u001b[1;32m     10\u001b[0m source\u001b[38;5;241m.\u001b[39madd(position)\n\u001b[0;32m---> 11\u001b[0m \u001b[43msource\u001b[49m\u001b[38;5;241;43m.\u001b[39;49m\u001b[43madd\u001b[49m\u001b[43m(\u001b[49m\u001b[43mredshift\u001b[49m\u001b[43m)\u001b[49m \n\u001b[1;32m     12\u001b[0m source\u001b[38;5;241m.\u001b[39madd(direction)\n\u001b[1;32m     13\u001b[0m source\u001b[38;5;241m.\u001b[39madd(energySpectrum)\n",
      "\u001b[0;31mTypeError\u001b[0m: in method 'Source_add', argument 2 of type 'crpropa::SourceFeature *'"
     ]
    }
   ],
   "source": [
    "#    Monochromatic source setup\n",
    "\n",
    "position = SourcePosition(source_distance)\n",
    "direction = SourceDirection(Vector3d(-1, 0, 0)) \n",
    "redshift = SourceRedshift # Add a redshift\n",
    "energySpectrum = SourcePowerLawSpectrum(1 * EeV, 1e3 * EeV, -1)\n",
    "particleType = SourceParticleType(nucleusId(1, 1)) # Emitting protons\n",
    "source = Source()\n",
    "\n",
    "source.add(position)\n",
    "source.add(redshift) \n",
    "source.add(direction)\n",
    "source.add(energySpectrum)\n",
    "source.add(particleType)"
   ]
  },
  {
   "cell_type": "code",
   "execution_count": 28,
   "id": "575f4616-7b8f-4aae-b2ff-3a8c85d6d884",
   "metadata": {},
   "outputs": [
    {
     "ename": "AttributeError",
     "evalue": "'crpropa.Source' object has no attribute 'SourceRedshift'",
     "output_type": "error",
     "traceback": [
      "\u001b[0;31m---------------------------------------------------------------------------\u001b[0m",
      "\u001b[0;31mAttributeError\u001b[0m                            Traceback (most recent call last)",
      "Cell \u001b[0;32mIn[28], line 1\u001b[0m\n\u001b[0;32m----> 1\u001b[0m \u001b[43msource\u001b[49m\u001b[38;5;241;43m.\u001b[39;49m\u001b[43mSourceRedshift\u001b[49m\n",
      "\u001b[0;31mAttributeError\u001b[0m: 'crpropa.Source' object has no attribute 'SourceRedshift'"
     ]
    }
   ],
   "source": [
    "source.SourceRedshift"
   ]
  },
  {
   "cell_type": "code",
   "execution_count": 15,
   "id": "70a4fdc6-9ec2-4923-9eea-8ab8e91553b6",
   "metadata": {},
   "outputs": [
    {
     "data": {
      "text/plain": [
       "Cosmic ray source"
      ]
     },
     "execution_count": 15,
     "metadata": {},
     "output_type": "execute_result"
    }
   ],
   "source": [
    "source_test"
   ]
  },
  {
   "cell_type": "code",
   "execution_count": 4,
   "id": "9a6d3534-7160-415c-9746-1ee7fc17a046",
   "metadata": {},
   "outputs": [],
   "source": [
    "#    Output file setup\n",
    "\n",
    "output_type = Output.Event1D     \n",
    "output = TextOutput(output_name, output_type)\n",
    "\n",
    "output.setEnergyScale(eV)\n",
    "output.setLengthScale(Mpc)"
   ]
  },
  {
   "cell_type": "code",
   "execution_count": 5,
   "id": "d92ccf5f-3a71-422f-a093-e8b88547c3fd",
   "metadata": {},
   "outputs": [],
   "source": [
    "#    Observer setup\n",
    "\n",
    "observer_type = Observer1D()\n",
    "\n",
    "observer = Observer()\n",
    "observer.add(observer_type)\n",
    "observer.onDetection(output)"
   ]
  },
  {
   "cell_type": "code",
   "execution_count": 6,
   "id": "a745bdbc-a105-4f78-a6ec-b0efa4f3425b",
   "metadata": {},
   "outputs": [],
   "source": [
    "#    Energy loss processes \n",
    "\n",
    "processes = []\n",
    "\n",
    "#    Adiabatic energy loss\n",
    "\n",
    "setCosmologyParameters(0.673, 1) \n",
    "\n",
    "z = Redshift()\n",
    "processes.append(z)\n",
    "\n",
    "#    Electron pair production\n",
    "\n",
    "eppCMB = ElectronPairProduction(cmb)\n",
    "processes.append(eppCMB)\n",
    "\n",
    "#    Photo pion production\n",
    "\n",
    "pppCMB = PhotoPionProduction(cmb)\n",
    "processes.append(pppCMB)"
   ]
  },
  {
   "cell_type": "code",
   "execution_count": 7,
   "id": "a8eda779-d063-4561-9683-335cea3111ed",
   "metadata": {},
   "outputs": [],
   "source": [
    "#    Defining propagator\n",
    "\n",
    "propagator = SimplePropagation(0.1 * kpc, 1 * Mpc)"
   ]
  },
  {
   "cell_type": "code",
   "execution_count": 8,
   "id": "07ca147e-7dc2-41c8-8aa8-ccd29877721e",
   "metadata": {},
   "outputs": [],
   "source": [
    "#    Breaking conditions\n",
    "\n",
    "max_trajectory = MaximumTrajectoryLength(500 * Mpc)"
   ]
  },
  {
   "cell_type": "code",
   "execution_count": 9,
   "id": "2063b9b8-e87c-49db-849d-419f30b368fd",
   "metadata": {},
   "outputs": [],
   "source": [
    "#    Assemble simulation modules\n",
    "\n",
    "sim = ModuleList()\n",
    "\n",
    "sim.add(observer)  # Observer\n",
    "[sim.add(process) for process in processes] # Energy loss \n",
    "sim.add(propagator) # Propagator\n",
    "sim.add(max_trajectory) # Break conditions\n",
    "\n",
    "sim.setShowProgress(True)"
   ]
  },
  {
   "cell_type": "code",
   "execution_count": 10,
   "id": "5c258504-965c-4c32-8861-e3dcaf00c139",
   "metadata": {},
   "outputs": [
    {
     "name": "stdout",
     "output_type": "stream",
     "text": [
      "crpropa::ModuleList: Number of Threads: 12\n",
      "Run ModuleList\n",
      "  Started Sat May 18 22:47:52 2024 : [=========>]  99%    Finish in: 00:00:00 \r"
     ]
    }
   ],
   "source": [
    "#    Simulation run\n",
    "\n",
    "sim.run(source, events)\n",
    "output.close()"
   ]
  },
  {
   "cell_type": "code",
   "execution_count": 3,
   "id": "d7a1175a-b27d-4747-b690-44fc41d0b47f",
   "metadata": {},
   "outputs": [
    {
     "data": {
      "text/plain": [
       "0.04538847809341571"
      ]
     },
     "execution_count": 3,
     "metadata": {},
     "output_type": "execute_result"
    }
   ],
   "source": [
    "comovingDistance2Redshift(200 * Mpc)"
   ]
  },
  {
   "cell_type": "code",
   "execution_count": 33,
   "id": "10dbdc77-fe8f-47c5-8d6c-00c80ef1468c",
   "metadata": {},
   "outputs": [],
   "source": []
  },
  {
   "cell_type": "code",
   "execution_count": 45,
   "id": "0814b12d-d50b-4566-8097-cbf201dd9a0b",
   "metadata": {},
   "outputs": [
    {
     "data": {
      "text/plain": [
       "0.0"
      ]
     },
     "execution_count": 45,
     "metadata": {},
     "output_type": "execute_result"
    }
   ],
   "source": []
  },
  {
   "cell_type": "code",
   "execution_count": 57,
   "id": "99a8d5eb-2a23-4f97-81a6-1c10bb76f2ad",
   "metadata": {},
   "outputs": [],
   "source": [
    "position = SourcePosition(source_distance)\n",
    "direction = SourceDirection(Vector3d(-1, 0, 0)) \n",
    "energySpectrum = SourcePowerLawSpectrum(1 * EeV, 1e3 * EeV, -1)\n",
    "particleType = SourceParticleType(nucleusId(1, 1)) # Emitting protons\n",
    "source1 = Source()\n",
    "\n",
    "source1.add(position)\n",
    "source1.add(direction)\n",
    "source1.add(energySpectrum)\n",
    "source1.add(particleType)"
   ]
  },
  {
   "cell_type": "code",
   "execution_count": 58,
   "id": "144fceef-1aa1-490d-b4e7-4600fccaaae1",
   "metadata": {},
   "outputs": [
    {
     "data": {
      "text/plain": [
       "Cosmic ray source\n",
       "    SourcePosition: 50 0 0 Mpc\n",
       "    SourceDirection: Emission direction = -1 0 0\n",
       "    SourcePowerLawSpectrum: Random energy E = 1 - 1000 EeV, dN/dE ~ E^-1\n",
       "    SourceParticleType: 1000010010"
      ]
     },
     "execution_count": 58,
     "metadata": {},
     "output_type": "execute_result"
    }
   ],
   "source": [
    "source1"
   ]
  },
  {
   "cell_type": "code",
   "execution_count": 64,
   "id": "19eee64d-12ac-4f94-aeea-ad6ef5f7aa24",
   "metadata": {},
   "outputs": [
    {
     "data": {
      "text/plain": [
       "<Swig Object of type 'crpropa::ref_ptr< crpropa::Candidate > *' at 0x7f3a8e1bbbf0>"
      ]
     },
     "execution_count": 64,
     "metadata": {},
     "output_type": "execute_result"
    }
   ],
   "source": [
    "source1.getCandidate()"
   ]
  },
  {
   "cell_type": "code",
   "execution_count": 60,
   "id": "20644475-f5db-4cdb-b94e-7bd1b861ba07",
   "metadata": {},
   "outputs": [
    {
     "data": {
      "text/plain": [
       "0.0"
      ]
     },
     "execution_count": 60,
     "metadata": {},
     "output_type": "execute_result"
    }
   ],
   "source": [
    "source1.getCandidate().getRedshift()"
   ]
  },
  {
   "cell_type": "code",
   "execution_count": null,
   "id": "4b5c8fe4-01b4-4ab9-988a-cde13a791464",
   "metadata": {},
   "outputs": [],
   "source": []
  }
 ],
 "metadata": {
  "kernelspec": {
   "display_name": "crpropa",
   "language": "python",
   "name": "crpropa"
  },
  "language_info": {
   "codemirror_mode": {
    "name": "ipython",
    "version": 3
   },
   "file_extension": ".py",
   "mimetype": "text/x-python",
   "name": "python",
   "nbconvert_exporter": "python",
   "pygments_lexer": "ipython3",
   "version": "3.12.3"
  }
 },
 "nbformat": 4,
 "nbformat_minor": 5
}

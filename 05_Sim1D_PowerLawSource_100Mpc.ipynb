{
 "cells": [
  {
   "cell_type": "markdown",
   "id": "32280d84-6ea5-4311-a415-a773697813ef",
   "metadata": {},
   "source": [
    "# Proton propagation using CRPropa3\n",
    "\n",
    "Gabriel de Azeredo, April 2024\n",
    "\n",
    "Proton propagation through an expanding Universe, filled by CMB. Source at 100 Mpc.\n",
    "\n",
    "Electron pair production and pion production is take into account as interaction with photon background.\n",
    "\n",
    "This script generate earth's measured spectrum of a source emitting 10000 protons in a power law. "
   ]
  },
  {
   "cell_type": "code",
   "execution_count": 1,
   "id": "183438c8-a2e4-4c43-b7ac-10bf484c3085",
   "metadata": {},
   "outputs": [],
   "source": [
    "#    Module import\n",
    "\n",
    "from crpropa import *"
   ]
  },
  {
   "cell_type": "code",
   "execution_count": 2,
   "id": "78bbfc87-8c4e-42d9-b826-4643ec6da073",
   "metadata": {},
   "outputs": [],
   "source": [
    "#    Simulation general setup\n",
    "\n",
    "events = 10000\n",
    "source_distance = 200 * Mpc\n",
    "\n",
    "filename1 = 'sim/05_sim1D_PowerLawSource_100Mpc_Protons.txt'\n",
    "filename2 = 'sim/05_sim1D_PowerLawSource_100Mpc_Photons.txt'\n",
    "filename3 = 'sim/05_sim1D_PowerLawSource_100Mpc_Elec.txt'\n",
    "\n",
    "photons = True\n",
    "neutrinos = False\n",
    "electrons = True\n",
    "\n",
    "#    Photon field setup\n",
    "\n",
    "cmb = CMB()"
   ]
  },
  {
   "cell_type": "code",
   "execution_count": 3,
   "id": "b43c7b27-3343-4b6a-a672-da4f928213fc",
   "metadata": {},
   "outputs": [],
   "source": [
    "#    Monochromatic source setup\n",
    "\n",
    "position = SourcePosition(source_distance)\n",
    "direction = SourceDirection(Vector3d(-1, 0, 0)) \n",
    "redshift = SourceRedshift1D() # Add a redshift\n",
    "energySpectrum = SourcePowerLawSpectrum(1 * EeV, 1e3 * EeV, -1)\n",
    "particleType = SourceParticleType(nucleusId(1, 1)) # Emitting protons\n",
    "source = Source()\n",
    "\n",
    "source.add(position)\n",
    "source.add(redshift) \n",
    "source.add(direction)\n",
    "source.add(energySpectrum)\n",
    "source.add(particleType)"
   ]
  },
  {
   "cell_type": "code",
   "execution_count": 4,
   "id": "d92ccf5f-3a71-422f-a093-e8b88547c3fd",
   "metadata": {},
   "outputs": [],
   "source": [
    "#    Observer setup\n",
    "\n",
    "obs1 = Observer() # proton output\n",
    "obs1.add(Observer1D())\n",
    "obs1.add(ObserverPhotonVeto()) # we don't want photons here\n",
    "obs1.add(ObserverElectronVeto()) # we don't want electrons\n",
    "out1 = TextOutput(filename1, Output.Event1D)\n",
    "out1.setEnergyScale(eV)\n",
    "out1.enable(Output.WeightColumn)\n",
    "out1.disable(Output.CandidateTagColumn)\n",
    "obs1.onDetection(out1)"
   ]
  },
  {
   "cell_type": "code",
   "execution_count": 5,
   "id": "d79e85e9-d98c-4726-a02c-27e8f4d508d2",
   "metadata": {},
   "outputs": [],
   "source": [
    "obs2 = Observer() # photon output\n",
    "obs2.add(Observer1D())\n",
    "# obs2.add(ObserverDetectAll()) # stores the photons at creation without propagating them\n",
    "obs2.add(ObserverElectronVeto())\n",
    "obs2.add(ObserverNucleusVeto()) # we don't want nuclei here\n",
    "out2 = TextOutput(filename2, Output.Event1D)\n",
    "out2.setEnergyScale(eV)\n",
    "\n",
    "\n",
    "out2.enable(Output.WeightColumn)\n",
    "obs2.onDetection(out2)\n",
    "out2.disable(Output.CandidateTagColumn)"
   ]
  },
  {
   "cell_type": "code",
   "execution_count": 6,
   "id": "c3ef2c36-a1b5-46ab-adf5-3798d06e3c58",
   "metadata": {},
   "outputs": [],
   "source": [
    "obs3 = Observer() # electron output\n",
    "obs3.add(Observer1D())\n",
    "# obs3.add(ObserverDetectAll()) # stores the photons at creation without propagating them\n",
    "obs3.add(ObserverPhotonVeto()) # we don't want photons\n",
    "obs3.add(ObserverNucleusVeto()) # we don't want nuclei here\n",
    "out3 = TextOutput(filename3, Output.Event1D)\n",
    "out3.setEnergyScale(eV)\n",
    "out3.enable(Output.WeightColumn)\n",
    "out3.disable(Output.CandidateTagColumn)\n",
    "\n",
    "# enables the necessary columns to be compatible with the DINT and EleCa propagation\n",
    "# out2.enable(Output.CreatedIdColumn)\n",
    "# out2.enable(Output.CreatedEnergyColumn)\n",
    "# out2.enable(Output.CreatedPositionColumn)\n",
    "obs3.onDetection(out3)"
   ]
  },
  {
   "cell_type": "code",
   "execution_count": 7,
   "id": "a745bdbc-a105-4f78-a6ec-b0efa4f3425b",
   "metadata": {},
   "outputs": [],
   "source": [
    "#    Energy loss processes \n",
    "\n",
    "processes = []\n",
    "\n",
    "#    Adiabatic energy loss\n",
    "\n",
    "setCosmologyParameters(0.673, 1) \n",
    "\n",
    "z = Redshift()\n",
    "processes.append(z)\n",
    "\n",
    "#    Electron pair production\n",
    "\n",
    "eppCMB = ElectronPairProduction(cmb, True)\n",
    "processes.append(eppCMB)\n",
    "\n",
    "#    Photo pion production\n",
    "\n",
    "pppCMB = PhotoPionProduction(cmb, False, False, False)\n",
    "processes.append(pppCMB)\n",
    "\n",
    "\n",
    "\n"
   ]
  },
  {
   "cell_type": "code",
   "execution_count": 8,
   "id": "a8eda779-d063-4561-9683-335cea3111ed",
   "metadata": {},
   "outputs": [],
   "source": [
    "#    Defining propagator\n",
    "\n",
    "propagator = SimplePropagation(0.1 * kpc, 1 * Mpc)"
   ]
  },
  {
   "cell_type": "code",
   "execution_count": 9,
   "id": "07ca147e-7dc2-41c8-8aa8-ccd29877721e",
   "metadata": {},
   "outputs": [],
   "source": [
    "#    Breaking conditions\n",
    "\n",
    "max_trajectory = MaximumTrajectoryLength(500 * Mpc)"
   ]
  },
  {
   "cell_type": "code",
   "execution_count": 10,
   "id": "2063b9b8-e87c-49db-849d-419f30b368fd",
   "metadata": {},
   "outputs": [],
   "source": [
    "#    Assemble simulation modules\n",
    "\n",
    "sim = ModuleList()\n",
    "\n",
    "sim.add(obs1)  # Observer\n",
    "sim.add(obs2) \n",
    "sim.add(obs3) \n",
    "[sim.add(process) for process in processes] # Energy loss \n",
    "sim.add(propagator) # Propagator\n",
    "sim.add(max_trajectory) # Break conditions\n",
    "\n",
    "sim.add(EMPairProduction(cmb, electrons))\n",
    "sim.add(EMDoublePairProduction(cmb, electrons))\n",
    "sim.add(EMInverseComptonScattering(cmb, photons))\n",
    "sim.add(EMTripletPairProduction(cmb, electrons))\n",
    "\n",
    "sim.setShowProgress(True)"
   ]
  },
  {
   "cell_type": "code",
   "execution_count": null,
   "id": "5c258504-965c-4c32-8861-e3dcaf00c139",
   "metadata": {},
   "outputs": [
    {
     "name": "stdout",
     "output_type": "stream",
     "text": [
      "crpropa::ModuleList: Number of Threads: 12\n",
      "Run ModuleList\n"
     ]
    }
   ],
   "source": [
    "#    Simulation run\n",
    "\n",
    "sim.run(source, events)\n",
    "output.close()"
   ]
  },
  {
   "cell_type": "code",
   "execution_count": null,
   "id": "d64c6fce-7e5f-46eb-b693-6e4833cdb62f",
   "metadata": {},
   "outputs": [],
   "source": [
    "comovingDistance2Redshift(source_distance)"
   ]
  }
 ],
 "metadata": {
  "kernelspec": {
   "display_name": "crpropa",
   "language": "python",
   "name": "crpropa"
  },
  "language_info": {
   "codemirror_mode": {
    "name": "ipython",
    "version": 3
   },
   "file_extension": ".py",
   "mimetype": "text/x-python",
   "name": "python",
   "nbconvert_exporter": "python",
   "pygments_lexer": "ipython3",
   "version": "3.12.3"
  }
 },
 "nbformat": 4,
 "nbformat_minor": 5
}

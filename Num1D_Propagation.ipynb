{
 "cells": [
  {
   "cell_type": "markdown",
   "id": "45474ed9-8e46-4cd6-992d-50877b66aa1a",
   "metadata": {},
   "source": [
    "# Numerical propagation\n",
    "\n",
    "Requires the code of extragalactic-proton-propagation."
   ]
  },
  {
   "cell_type": "code",
   "execution_count": 2,
   "id": "be6ff990-7d49-4d23-b8a9-d803f1f9797b",
   "metadata": {},
   "outputs": [],
   "source": [
    "# Include modules\n",
    "\n",
    "include(\"../extragalactic-proton-propagation/particepropagation/numerical_propagation.jl\")\n",
    "using DelimitedFiles"
   ]
  },
  {
   "cell_type": "code",
   "execution_count": 2,
   "id": "dc0e4fe6-2c82-429b-a142-d5abadc38b94",
   "metadata": {},
   "outputs": [
    {
     "data": {
      "text/plain": [
       "do_cosmicray_propagation (generic function with 1 method)"
      ]
     },
     "execution_count": 2,
     "metadata": {},
     "output_type": "execute_result"
    }
   ],
   "source": [
    "# Defining function for propagation\n",
    "\n",
    "function do_cosmicray_propagation(E0, z0, output_name)\n",
    "\n",
    "    # Default h = 250\n",
    "    \n",
    "    open(output_name, \"w\") do io\n",
    "        \n",
    "        x, y = proton_propa(E0, z0, 250)\n",
    "\n",
    "        # write on output file\n",
    "        \n",
    "        writedlm(io, [\"z\" \"E\"])\n",
    "        writedlm(io, [x y])\n",
    "    \n",
    "    end   \n",
    "end "
   ]
  },
  {
   "cell_type": "markdown",
   "id": "ff04c029-b097-41ce-9c42-d390080a324b",
   "metadata": {},
   "source": [
    "# 01 - Only adiabatic energy loss"
   ]
  },
  {
   "cell_type": "code",
   "execution_count": 3,
   "id": "3afe123e-3144-43d9-a8a9-9d45093608d4",
   "metadata": {},
   "outputs": [],
   "source": [
    "E0 = 1e17\n",
    "z0 = 0.122454\n",
    "output_name = \"num/01_num1D_AdiabaticLoss.txt\"\n",
    "\n",
    "do_cosmicray_propagation(E0, z0, output_name)"
   ]
  },
  {
   "cell_type": "markdown",
   "id": "25798869-71e6-4c75-a595-724be4446434",
   "metadata": {},
   "source": [
    "# 02 - Added electron pair production"
   ]
  },
  {
   "cell_type": "code",
   "execution_count": 4,
   "id": "4cd7580a-c089-47dc-a4f2-887d19fc018d",
   "metadata": {},
   "outputs": [],
   "source": [
    "E0 = 5e18\n",
    "z0 = 0.122454\n",
    "output_name = \"num/02_num1D_PairProduction_Test.txt\"\n",
    "\n",
    "do_cosmicray_propagation(E0, z0, output_name)"
   ]
  },
  {
   "cell_type": "markdown",
   "id": "7d016843-8393-4156-aa4b-9b6cf8a90ce0",
   "metadata": {},
   "source": [
    "# 03 - Added photo pion production"
   ]
  },
  {
   "cell_type": "code",
   "execution_count": 5,
   "id": "b11688fb-a15c-48c7-bf3c-445c3bb51c73",
   "metadata": {},
   "outputs": [],
   "source": [
    "E0 = 1e20\n",
    "z0 = 0.122454\n",
    "output_name = \"num/03_num1D_PionProduction.txt\"\n",
    "\n",
    "do_cosmicray_propagation(E0, z0, output_name)"
   ]
  },
  {
   "cell_type": "code",
   "execution_count": 41,
   "id": "f141aef2-85fe-407c-ba2f-ad4dd4fed586",
   "metadata": {
    "scrolled": true
   },
   "outputs": [],
   "source": [
    "# 200 Mpc\n",
    "\n",
    "output_name = \"num/04_num1D_PowerLawSource_200Mpc.txt\"\n",
    "input_name = \"sim/05_sim1D_PowerLawSource_200Mpc.txt\"\n",
    "\n",
    "z0 = 0.04538847809341571\n",
    "\n",
    "open(input_name, \"r\") do inp\n",
    "\n",
    "    E0 = readdlm(inp, '\\t',comments = true)[:,5]\n",
    "\n",
    "    open(output_name, \"w\") do out\n",
    "\n",
    "        E = E_earth.(E0, z0, 250)\n",
    "    \n",
    "        writedlm(out, [\"E\"])\n",
    "        writedlm(out, E)\n",
    "    end\n",
    "end"
   ]
  },
  {
   "cell_type": "code",
   "execution_count": 47,
   "id": "3d689efd-7c02-4417-ad5d-7965c02ed84e",
   "metadata": {},
   "outputs": [],
   "source": [
    "# 100 Mpc\n",
    "\n",
    "output_name = \"num/04_num1D_PowerLawSource_100Mpc.txt\"\n",
    "input_name = \"sim/05_sim1D_PowerLawSource_100Mpc.txt\"\n",
    "\n",
    "z0 = 0.022832579329667806\n",
    "\n",
    "open(input_name, \"r\") do inp\n",
    "\n",
    "    E0 = readdlm(inp, '\\t',comments = true)[:,5]\n",
    "\n",
    "    open(output_name, \"w\") do out\n",
    "\n",
    "        E = E_earth.(E0, z0, 250)\n",
    "    \n",
    "        writedlm(out, [\"E\"])\n",
    "        writedlm(out, E)\n",
    "    end\n",
    "end"
   ]
  },
  {
   "cell_type": "code",
   "execution_count": 3,
   "id": "e1f3d607-d0dc-4885-a218-ab72627d30f1",
   "metadata": {},
   "outputs": [],
   "source": [
    "# 50 Mpc\n",
    "\n",
    "output_name = \"num/04_num1D_PowerLawSource_50Mpc.txt\"\n",
    "input_name = \"sim/05_sim1D_PowerLawSource_50Mpc.txt\"\n",
    "\n",
    "z0 = 0.011319635383384376\n",
    "\n",
    "open(input_name, \"r\") do inp\n",
    "\n",
    "    E0 = readdlm(inp, '\\t',comments = true)[:,5]\n",
    "\n",
    "    open(output_name, \"w\") do out\n",
    "\n",
    "        E = E_earth.(E0, z0, 250)\n",
    "    \n",
    "        writedlm(out, [\"E\"])\n",
    "        writedlm(out, E)\n",
    "    end\n",
    "end"
   ]
  }
 ],
 "metadata": {
  "kernelspec": {
   "display_name": "Julia 1.10.2",
   "language": "julia",
   "name": "julia-1.10"
  },
  "language_info": {
   "file_extension": ".jl",
   "mimetype": "application/julia",
   "name": "julia",
   "version": "1.10.2"
  }
 },
 "nbformat": 4,
 "nbformat_minor": 5
}

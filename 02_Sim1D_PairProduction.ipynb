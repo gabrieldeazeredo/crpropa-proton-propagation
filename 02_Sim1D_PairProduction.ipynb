{
 "cells": [
  {
   "cell_type": "markdown",
   "id": "32280d84-6ea5-4311-a415-a773697813ef",
   "metadata": {},
   "source": [
    "# Proton propagation using CRPropa3\n",
    "\n",
    "Gabriel de Azeredo, April 2024\n",
    "\n",
    "Proton propagation through an expanding Universe, filled by CMB. Source at 500 Mpc.\n",
    "\n",
    "Only electron pair production is take into account as interaction with photon background."
   ]
  },
  {
   "cell_type": "code",
   "execution_count": 1,
   "id": "183438c8-a2e4-4c43-b7ac-10bf484c3085",
   "metadata": {},
   "outputs": [],
   "source": [
    "#    Module import\n",
    "\n",
    "from crpropa import *"
   ]
  },
  {
   "cell_type": "code",
   "execution_count": 2,
   "id": "78bbfc87-8c4e-42d9-b826-4643ec6da073",
   "metadata": {},
   "outputs": [],
   "source": [
    "#    Simulation general setup\n",
    "\n",
    "source_distance = 500 * Mpc\n",
    "output_name = 'sim/02_sim1D_PairProduction_test.txt'\n",
    "\n",
    "#    Photon field setup\n",
    "\n",
    "cmb = CMB()"
   ]
  },
  {
   "cell_type": "code",
   "execution_count": 3,
   "id": "9a6d3534-7160-415c-9746-1ee7fc17a046",
   "metadata": {},
   "outputs": [],
   "source": [
    "#    Output file setup\n",
    "\n",
    "output_type = Output.Trajectory1D     \n",
    "output = TextOutput(output_name, output_type)\n",
    "\n",
    "output.enable(Output.CurrentEnergyColumn)\n",
    "output.enable(Output.RedshiftColumn)\n",
    "output.enable(Output.CurrentPositionColumn)\n",
    "\n",
    "#    Units setup\n",
    "\n",
    "output.setEnergyScale(eV)\n",
    "output.setLengthScale(Mpc)\n",
    "\n",
    "#    Only protons\n",
    "\n",
    "output.disable(Output.CreatedIdColumn)\n",
    "output.disable(Output.CurrentIdColumn)"
   ]
  },
  {
   "cell_type": "code",
   "execution_count": 4,
   "id": "d92ccf5f-3a71-422f-a093-e8b88547c3fd",
   "metadata": {},
   "outputs": [],
   "source": [
    "#    Observer setup\n",
    "\n",
    "observer_type = Observer1D()\n",
    "\n",
    "observer = Observer()\n",
    "observer.add(observer_type)"
   ]
  },
  {
   "cell_type": "code",
   "execution_count": 5,
   "id": "a745bdbc-a105-4f78-a6ec-b0efa4f3425b",
   "metadata": {},
   "outputs": [],
   "source": [
    "#    Energy loss processes \n",
    "\n",
    "processes = []\n",
    "\n",
    "#    Adiabatic energy loss\n",
    "\n",
    "setCosmologyParameters(0.673, 1) \n",
    "\n",
    "z = Redshift()\n",
    "processes.append(z)\n",
    "\n",
    "#    Pair production\n",
    "\n",
    "eppCMB = ElectronPairProduction(cmb)\n",
    "processes.append(eppCMB)"
   ]
  },
  {
   "cell_type": "code",
   "execution_count": 6,
   "id": "a8eda779-d063-4561-9683-335cea3111ed",
   "metadata": {},
   "outputs": [],
   "source": [
    "#    Defining propagator\n",
    "\n",
    "propagator = SimplePropagation(0.1 * kpc, 0.5 * kpc)"
   ]
  },
  {
   "cell_type": "code",
   "execution_count": 7,
   "id": "352677f4-10de-44d5-83e9-0822f01deb8c",
   "metadata": {},
   "outputs": [],
   "source": [
    "#    Breaking conditions\n",
    "\n",
    "max_trajectory = MaximumTrajectoryLength(500 * Mpc)"
   ]
  },
  {
   "cell_type": "code",
   "execution_count": 8,
   "id": "2063b9b8-e87c-49db-849d-419f30b368fd",
   "metadata": {},
   "outputs": [],
   "source": [
    "#    Assemble simulation modules\n",
    "\n",
    "sim = ModuleList()\n",
    "\n",
    "sim.add(output)    # Output\n",
    "sim.add(observer)  # Observer\n",
    "[sim.add(process) for process in processes] # Energy loss \n",
    "sim.add(propagator) # Propagator\n",
    "sim.add(max_trajectory) # Break conditions\n",
    "\n",
    "sim.setShowProgress(True)"
   ]
  },
  {
   "cell_type": "code",
   "execution_count": 9,
   "id": "e8dccec6-7d61-453a-9f58-9125f4b3f01c",
   "metadata": {},
   "outputs": [
    {
     "name": "stdout",
     "output_type": "stream",
     "text": [
      "CosmicRay at z = 0.122454\n",
      "  source:  Particle 1000010010, E = 5 EeV, x = 500 0 0 Mpc, p = -1 0 0\n",
      "  current: Particle 1000010010, E = 5 EeV, x = 500 0 0 Mpc, p = -1 0 0\n"
     ]
    }
   ],
   "source": [
    "#    Candidate creation\n",
    "\n",
    "cosmic_ray = Candidate(nucleusId(1,1), # Proton\n",
    "                      5e18 * eV, # Energy at source = 5e18 eV\n",
    "                      Vector3d(source_distance, 0, 0))\n",
    "\n",
    "cosmic_ray.setRedshift(comovingDistance2Redshift(source_distance))\n",
    "print(cosmic_ray)"
   ]
  },
  {
   "cell_type": "code",
   "execution_count": 10,
   "id": "5c258504-965c-4c32-8861-e3dcaf00c139",
   "metadata": {},
   "outputs": [],
   "source": [
    "#    Simulation run\n",
    "\n",
    "sim.run(cosmic_ray)\n",
    "output.close()"
   ]
  },
  {
   "cell_type": "code",
   "execution_count": 11,
   "id": "c01f21a6-a44f-42b8-a86f-8426a0844174",
   "metadata": {},
   "outputs": [
    {
     "data": {
      "text/plain": [
       "CosmicRay at z = 2.56407e-07\n",
       "  source:  Particle 1000010010, E = 5 EeV, x = 500 0 0 Mpc, p = -1 0 0\n",
       "  current: Particle 1000010010, E = 3.43443 EeV, x = 4.74495e-14 0 0 Mpc, p = -1 0 0"
      ]
     },
     "execution_count": 11,
     "metadata": {},
     "output_type": "execute_result"
    }
   ],
   "source": [
    "cosmic_ray"
   ]
  }
 ],
 "metadata": {
  "kernelspec": {
   "display_name": "crpropa",
   "language": "python",
   "name": "crpropa"
  },
  "language_info": {
   "codemirror_mode": {
    "name": "ipython",
    "version": 3
   },
   "file_extension": ".py",
   "mimetype": "text/x-python",
   "name": "python",
   "nbconvert_exporter": "python",
   "pygments_lexer": "ipython3",
   "version": "3.12.3"
  }
 },
 "nbformat": 4,
 "nbformat_minor": 5
}
